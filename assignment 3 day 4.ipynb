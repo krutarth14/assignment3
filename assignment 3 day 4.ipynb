{
 "cells": [
  {
   "cell_type": "markdown",
   "metadata": {},
   "source": [
    "# q 1"
   ]
  },
  {
   "cell_type": "code",
   "execution_count": null,
   "metadata": {},
   "outputs": [],
   "source": [
    "\n",
    "abc = open(\"a1.txt\",'w')\n",
    "abc.write(\" I Love LetsUpgrade\")\n",
    "abc.close()"
   ]
  },
  {
   "cell_type": "code",
   "execution_count": 6,
   "metadata": {},
   "outputs": [],
   "source": [
    "xyz = open(\"a1.txt\",'a')\n",
    "abc.write(\" i love python language\")\n",
    "abc.close()\n"
   ]
  },
  {
   "cell_type": "code",
   "execution_count": 5,
   "metadata": {},
   "outputs": [
    {
     "name": "stdout",
     "output_type": "stream",
     "text": [
      " I Love LetsUpgrade i love python language\n"
     ]
    }
   ],
   "source": [
    "abc = open(\"a1.txt\",'r+')\n",
    "print(abc.read())"
   ]
  },
  {
   "cell_type": "markdown",
   "metadata": {},
   "source": [
    "# q 2"
   ]
  },
  {
   "cell_type": "code",
   "execution_count": 8,
   "metadata": {},
   "outputs": [
    {
     "name": "stdout",
     "output_type": "stream",
     "text": [
      "enter any number\n",
      "5\n",
      "factorial of number = 5 factorial is= 120\n"
     ]
    }
   ],
   "source": [
    "print(\"enter any number\")\n",
    "num=int(input())\n",
    "factorial=1\n",
    "if num<0:\n",
    "    print(\"enter any positive number\")\n",
    "else:\n",
    "    for i in range(1,num+1):\n",
    "      factorial=factorial*i\n",
    "    print(\"factorial of number =\",num,\"factorial is=\",factorial)"
   ]
  },
  {
   "cell_type": "code",
   "execution_count": null,
   "metadata": {},
   "outputs": [],
   "source": []
  }
 ],
 "metadata": {
  "kernelspec": {
   "display_name": "Python 3",
   "language": "python",
   "name": "python3"
  },
  "language_info": {
   "codemirror_mode": {
    "name": "ipython",
    "version": 3
   },
   "file_extension": ".py",
   "mimetype": "text/x-python",
   "name": "python",
   "nbconvert_exporter": "python",
   "pygments_lexer": "ipython3",
   "version": "3.8.5"
  }
 },
 "nbformat": 4,
 "nbformat_minor": 4
}
